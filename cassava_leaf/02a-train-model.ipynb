{
 "cells": [
  {
   "cell_type": "code",
   "execution_count": 1,
   "metadata": {
    "scrolled": true
   },
   "outputs": [],
   "source": [
    "import torch.nn as nn\n",
    "import torch\n",
    "import torchvision\n",
    "from torchvision import transforms\n",
    "import torch.nn.functional as F\n",
    "from torchvision import datasets\n",
    "from torch.optim import lr_scheduler\n",
    "import torch.optim as optim\n",
    "\n",
    "import numpy as np\n",
    "import os, random\n",
    "import time\n",
    "from PIL import Image\n",
    "import copy\n",
    "import pandas as pd\n",
    "import matplotlib.pyplot as plt"
   ]
  },
  {
   "cell_type": "markdown",
   "metadata": {},
   "source": [
    "# Loading data"
   ]
  },
  {
   "cell_type": "code",
   "execution_count": 2,
   "metadata": {
    "scrolled": true
   },
   "outputs": [],
   "source": [
    "#Data transformations for data augmentation\n",
    "jitter_param = 0.05\n",
    "train_transform = transforms.Compose([\n",
    "        transforms.RandomResizedCrop(512),\n",
    "        transforms.RandomHorizontalFlip(),\n",
    "        transforms.ColorJitter(\n",
    "            brightness=jitter_param,\n",
    "            contrast=jitter_param,\n",
    "            saturation=jitter_param),\n",
    "        transforms.RandomRotation(degrees=(-10,10), \n",
    "                                  resample=False, \n",
    "                                  expand=False, \n",
    "                                  center=None, \n",
    "                                  fill=None),\n",
    "        transforms.ToTensor(),\n",
    "        transforms.Normalize([0.485, 0.456, 0.406], [0.229, 0.224, 0.225])\n",
    "    ])\n",
    "\n",
    "val_transform = transforms.Compose([\n",
    "        transforms.Resize(544),\n",
    "        transforms.CenterCrop(512),\n",
    "        transforms.ToTensor(),\n",
    "        transforms.Normalize([0.485, 0.456, 0.406], [0.229, 0.224, 0.225])\n",
    "    ])\n",
    "\n",
    "#We define the dataset class\n",
    "class Dataset(torch.utils.data.Dataset):\n",
    "    \n",
    "    def __init__(self, imgs, labels, transform=None):\n",
    "        self.imgs = imgs\n",
    "        self.labels = labels\n",
    "        self.transform = transform\n",
    "    \n",
    "    def __len__(self):\n",
    "        return len(self.imgs)\n",
    "    \n",
    "    def __getitem__(self, ix):\n",
    "        img = Image.open(self.imgs[ix])\n",
    "        label = torch.tensor(self.labels[ix], dtype = torch.long)\n",
    "        if self.transform:\n",
    "            img = self.transform(img)\n",
    "        return img, label\n",
    "    \n",
    "    def check(self):\n",
    "        if len(self.img) == len(self.labels):\n",
    "            print('Okey!')\n",
    "        else:\n",
    "            print('imgs and labels different len')\n",
    "\n",
    "#Take train data and create a dataset class with it\n",
    "database_base_path = '/media/sergio/traballos sergio/msi/datasets/kaggle/cassava/'\n",
    "df = pd.read_csv(database_base_path + 'train.csv')\n",
    "#imgs = [database_base_path + 'train_images/' + img for img in os.listdir(database_base_path)]\n",
    "\n",
    "#Shuffle data\n",
    "df = df.sample(frac=1)\n",
    "\n",
    "#Take imgs and labels\n",
    "imgs = [database_base_path + 'train_images/' + img for img in df['image_id'].values]\n",
    "labels = df['label'].values\n",
    "\n"
   ]
  },
  {
   "cell_type": "code",
   "execution_count": 3,
   "metadata": {
    "scrolled": true
   },
   "outputs": [],
   "source": [
    "#Hyperparameters. train_val_split means the fraction of images intended for train (max value=1)\n",
    "train_val_split = 0.85\n",
    "batch_size = 4\n",
    "\n",
    "train_dataset = Dataset(imgs[0:int(train_val_split*len(imgs))], \n",
    "                        labels[0:int(train_val_split*len(imgs))], \n",
    "                        train_transform)\n",
    "val_dataset = Dataset(imgs[int(train_val_split*len(imgs)):len(imgs)], \n",
    "                      labels[int(train_val_split*len(imgs)):len(imgs)], \n",
    "                      val_transform)\n",
    "\n",
    "#create the dataloaders\n",
    "train_loader = torch.utils.data.DataLoader(train_dataset, batch_size=batch_size, \n",
    "                                           shuffle=True, num_workers=4)\n",
    "validation_loader = torch.utils.data.DataLoader(val_dataset, batch_size=batch_size,\n",
    "                                                shuffle=False, num_workers=4)\n",
    "\n",
    "dataloader = []\n",
    "dataloader.append(train_loader)\n",
    "dataloader.append(validation_loader)\n",
    "\n",
    "dataset_sizes = []\n",
    "dataset_sizes.append(len(train_dataset))\n",
    "dataset_sizes.append(len(val_dataset))"
   ]
  },
  {
   "cell_type": "markdown",
   "metadata": {},
   "source": [
    "# Loading model"
   ]
  },
  {
   "cell_type": "code",
   "execution_count": 4,
   "metadata": {
    "scrolled": true
   },
   "outputs": [],
   "source": [
    "#Load trained model to re-train\n",
    "model = torch.load('/media/sergio/traballos sergio/msi/models/cassava/VGG16-1.h5')\n",
    "device = torch.device(\"cuda:0\" if torch.cuda.is_available() else \"cpu\")"
   ]
  },
  {
   "cell_type": "code",
   "execution_count": null,
   "metadata": {
    "scrolled": false
   },
   "outputs": [],
   "source": [
    "#Load ResNet50 new model\n",
    "\n",
    "model = torchvision.models.resnet50(pretrained = True)\n",
    "model.fc = nn.Linear(model.fc.in_features, 5)\n",
    "device = torch.device(\"cuda:0\" if torch.cuda.is_available() else \"cpu\")\n",
    "model.to(device)"
   ]
  },
  {
   "cell_type": "code",
   "execution_count": 2,
   "metadata": {
    "scrolled": true
   },
   "outputs": [
    {
     "data": {
      "text/plain": [
       "VGG(\n",
       "  (features): Sequential(\n",
       "    (0): Conv2d(3, 64, kernel_size=(3, 3), stride=(1, 1), padding=(1, 1))\n",
       "    (1): ReLU(inplace=True)\n",
       "    (2): Conv2d(64, 64, kernel_size=(3, 3), stride=(1, 1), padding=(1, 1))\n",
       "    (3): ReLU(inplace=True)\n",
       "    (4): MaxPool2d(kernel_size=2, stride=2, padding=0, dilation=1, ceil_mode=False)\n",
       "    (5): Conv2d(64, 128, kernel_size=(3, 3), stride=(1, 1), padding=(1, 1))\n",
       "    (6): ReLU(inplace=True)\n",
       "    (7): Conv2d(128, 128, kernel_size=(3, 3), stride=(1, 1), padding=(1, 1))\n",
       "    (8): ReLU(inplace=True)\n",
       "    (9): MaxPool2d(kernel_size=2, stride=2, padding=0, dilation=1, ceil_mode=False)\n",
       "    (10): Conv2d(128, 256, kernel_size=(3, 3), stride=(1, 1), padding=(1, 1))\n",
       "    (11): ReLU(inplace=True)\n",
       "    (12): Conv2d(256, 256, kernel_size=(3, 3), stride=(1, 1), padding=(1, 1))\n",
       "    (13): ReLU(inplace=True)\n",
       "    (14): Conv2d(256, 256, kernel_size=(3, 3), stride=(1, 1), padding=(1, 1))\n",
       "    (15): ReLU(inplace=True)\n",
       "    (16): MaxPool2d(kernel_size=2, stride=2, padding=0, dilation=1, ceil_mode=False)\n",
       "    (17): Conv2d(256, 512, kernel_size=(3, 3), stride=(1, 1), padding=(1, 1))\n",
       "    (18): ReLU(inplace=True)\n",
       "    (19): Conv2d(512, 512, kernel_size=(3, 3), stride=(1, 1), padding=(1, 1))\n",
       "    (20): ReLU(inplace=True)\n",
       "    (21): Conv2d(512, 512, kernel_size=(3, 3), stride=(1, 1), padding=(1, 1))\n",
       "    (22): ReLU(inplace=True)\n",
       "    (23): MaxPool2d(kernel_size=2, stride=2, padding=0, dilation=1, ceil_mode=False)\n",
       "    (24): Conv2d(512, 512, kernel_size=(3, 3), stride=(1, 1), padding=(1, 1))\n",
       "    (25): ReLU(inplace=True)\n",
       "    (26): Conv2d(512, 512, kernel_size=(3, 3), stride=(1, 1), padding=(1, 1))\n",
       "    (27): ReLU(inplace=True)\n",
       "    (28): Conv2d(512, 512, kernel_size=(3, 3), stride=(1, 1), padding=(1, 1))\n",
       "    (29): ReLU(inplace=True)\n",
       "    (30): MaxPool2d(kernel_size=2, stride=2, padding=0, dilation=1, ceil_mode=False)\n",
       "  )\n",
       "  (avgpool): AdaptiveAvgPool2d(output_size=(7, 7))\n",
       "  (classifier): Sequential(\n",
       "    (0): Linear(in_features=25088, out_features=4096, bias=True)\n",
       "    (1): ReLU(inplace=True)\n",
       "    (2): Dropout(p=0.5, inplace=False)\n",
       "    (3): Linear(in_features=4096, out_features=4096, bias=True)\n",
       "    (4): ReLU(inplace=True)\n",
       "    (5): Dropout(p=0.5, inplace=False)\n",
       "    (6): Linear(in_features=4096, out_features=1000, bias=True)\n",
       "    (7): ReLU()\n",
       "    (8): Dropout(p=0.5, inplace=False)\n",
       "    (9): Linear(in_features=1000, out_features=5, bias=True)\n",
       "    (10): LogSoftmax(dim=1)\n",
       "  )\n",
       ")"
      ]
     },
     "execution_count": 2,
     "metadata": {},
     "output_type": "execute_result"
    }
   ],
   "source": [
    "#Load vgg16 new model\n",
    "\n",
    "model = torchvision.models.vgg16(pretrained=True)\n",
    "model.classifier.add_module('7', nn.ReLU())\n",
    "model.classifier.add_module('8', nn.Dropout(p=0.5, inplace=False))\n",
    "model.classifier.add_module('9', nn.Linear(1000, 5))\n",
    "model.classifier.add_module('10', nn.LogSoftmax(dim=1))\n",
    "\n",
    "\n",
    "device = torch.device(\"cuda:0\" if torch.cuda.is_available() else \"cpu\")\n",
    "model.to(device)"
   ]
  },
  {
   "cell_type": "markdown",
   "metadata": {},
   "source": [
    "# Train"
   ]
  },
  {
   "cell_type": "code",
   "execution_count": 3,
   "metadata": {
    "scrolled": true
   },
   "outputs": [],
   "source": [
    "def train_model(model, dataloader, criterion, optimizer, scheduler, num_epochs=25):\n",
    "    since = time.time()\n",
    "    losses = np.zeros((2,num_epochs))\n",
    "    acertos= np.zeros((2,num_epochs))\n",
    "\n",
    "    best_model_wts = copy.deepcopy(model.state_dict())\n",
    "    best_acc = 0.0\n",
    "\n",
    "    for epoch in range(num_epochs):\n",
    "        print('Epoch {}/{}'.format(epoch, num_epochs - 1))\n",
    "        print('-' * 10)\n",
    "\n",
    "       \n",
    "        for phase in range(2):\n",
    "            if phase == 0:\n",
    "                model.train()  # Pon a rede en training mode\n",
    "            else:\n",
    "                model.eval()   # Pon a rede en evaluate mode\n",
    "\n",
    "            running_loss = 0.0\n",
    "            running_corrects = 0\n",
    "            itera = 0\n",
    "          \n",
    "            for inputs, labels in dataloader[phase]:\n",
    "                inputs = inputs.to(device)\n",
    "                labels = labels.to(device)\n",
    "                \n",
    "                itera += 1\n",
    "                if itera%1000 == 0:\n",
    "                    print('batch:', itera)\n",
    "                    \n",
    "                optimizer.zero_grad()\n",
    "                with torch.set_grad_enabled(phase == 0):\n",
    "                    outputs = model(inputs)\n",
    "                    _, preds = torch.max(outputs, 1)\n",
    "                    loss = criterion(outputs, labels)\n",
    "\n",
    "                    if phase == 0:\n",
    "                        loss.backward()\n",
    "                        optimizer.step()\n",
    "\n",
    "                running_loss += loss.item() * inputs.size(0)\n",
    "                running_corrects += torch.sum(preds == labels.data)\n",
    "            if phase == 0:\n",
    "                scheduler.step()\n",
    "\n",
    "            epoch_loss = running_loss / dataset_sizes[phase]\n",
    "            epoch_acc = running_corrects.double() / dataset_sizes[phase]\n",
    "\n",
    "            print('{} Loss: {:.4f} Acc: {:.4f}'.format(\n",
    "                phase, epoch_loss, epoch_acc))\n",
    "            if phase == 0:\n",
    "              losses[0, epoch]= epoch_loss\n",
    "              acertos[0, epoch]= epoch_acc\n",
    "            else:\n",
    "              losses[1, epoch]= epoch_loss\n",
    "              acertos[1, epoch]= epoch_acc\n",
    "\n",
    "            if phase == 1 and epoch_acc > best_acc:\n",
    "                best_acc = epoch_acc\n",
    "                best_model_wts = copy.deepcopy(model.state_dict())\n",
    "\n",
    "        print()\n",
    "        \n",
    "\n",
    "    time_elapsed = time.time() - since\n",
    "    print('Training complete in {:.0f}m {:.0f}s'.format(\n",
    "        time_elapsed // 60, time_elapsed % 60))\n",
    "    print('Best val Acc: {:4f}'.format(best_acc))\n",
    "    print('train loss:', list(losses[0]))\n",
    "    print()\n",
    "    print('val loss:', list(losses[1]))\n",
    "    print()\n",
    "    print('train acc:', list(acertos[0]))\n",
    "    print()\n",
    "    print('val acc:', list(acertos[1]))\n",
    "    # Cargamos os mellores pesos obtidos ao longo das iteracións\n",
    "    model.load_state_dict(best_model_wts)\n",
    "    return model, losses, acertos"
   ]
  },
  {
   "cell_type": "code",
   "execution_count": 6,
   "metadata": {
    "scrolled": true
   },
   "outputs": [],
   "source": [
    "criterion = nn.CrossEntropyLoss()\n",
    "\n",
    "lr = 0.0003 #vgg-16\n",
    "#lr = 0.008 #resnet50\n",
    "optimizer_ft = optim.SGD(model.parameters(), lr=lr, momentum=0.9)\n",
    "\n",
    "exp_lr_scheduler = lr_scheduler.StepLR(optimizer_ft, step_size=7, gamma=0.1)"
   ]
  },
  {
   "cell_type": "code",
   "execution_count": 8,
   "metadata": {
    "scrolled": true
   },
   "outputs": [
    {
     "name": "stdout",
     "output_type": "stream",
     "text": [
      "Epoch 0/0\n",
      "----------\n",
      "batch: 1000\n",
      "batch: 2000\n",
      "batch: 3000\n",
      "batch: 4000\n",
      "0 Loss: 0.4830 Acc: 0.8384\n",
      "1 Loss: 0.4165 Acc: 0.8545\n",
      "\n",
      "Training complete in 36m 42s\n",
      "Best val Acc: 0.854517\n",
      "train loss: [0.4830301840276933]\n",
      "\n",
      "val loss: [0.4165160657642148]\n",
      "\n",
      "train acc: [0.8384010556991257]\n",
      "\n",
      "val acc: [0.8545171339563863]\n"
     ]
    }
   ],
   "source": [
    "best_model, loss, acc = train_model(model, dataloader, criterion, optimizer_ft, exp_lr_scheduler,\n",
    "                       num_epochs=1)"
   ]
  },
  {
   "cell_type": "markdown",
   "metadata": {},
   "source": [
    "# Results"
   ]
  },
  {
   "cell_type": "code",
   "execution_count": 8,
   "metadata": {
    "scrolled": true
   },
   "outputs": [
    {
     "data": {
      "text/plain": [
       "[<matplotlib.lines.Line2D at 0x7facc65226d0>]"
      ]
     },
     "execution_count": 8,
     "metadata": {},
     "output_type": "execute_result"
    },
    {
     "data": {
      "image/png": "[encoded data removed]",
      "text/plain": [
       "<Figure size 432x288 with 1 Axes>"
      ]
     },
     "metadata": {
      "needs_background": "light"
     },
     "output_type": "display_data"
    }
   ],
   "source": [
    "plt.plot(np.arange(0,acc.shape[1],1), acc[1], label='val acc')\n",
    "plt.plot(np.arange(0,acc.shape[1],1), acc[0], label='train acc')"
   ]
  },
  {
   "cell_type": "code",
   "execution_count": 9,
   "metadata": {
    "scrolled": true
   },
   "outputs": [
    {
     "data": {
      "text/plain": [
       "[<matplotlib.lines.Line2D at 0x7facf6de7e20>]"
      ]
     },
     "execution_count": 9,
     "metadata": {},
     "output_type": "execute_result"
    },
    {
     "data": {
      "image/png": "[encoded data removed]",
      "text/plain": [
       "<Figure size 432x288 with 1 Axes>"
      ]
     },
     "metadata": {
      "needs_background": "light"
     },
     "output_type": "display_data"
    }
   ],
   "source": [
    "plt.plot(np.arange(0,loss.shape[1],1), loss[1], label='val acc')\n",
    "plt.plot(np.arange(0,loss.shape[1],1), loss[0], label='train acc')"
   ]
  },
  {
   "cell_type": "code",
   "execution_count": 10,
   "metadata": {
    "scrolled": true
   },
   "outputs": [],
   "source": [
    "PATH='/media/sergio/traballos sergio/msi/models/cassava/VGG16-2.h5'\n",
    "torch.save(model, PATH)"
   ]
  },
  {
   "cell_type": "code",
   "execution_count": null,
   "metadata": {},
   "outputs": [],
   "source": [
    "PATH='/media/sergio/traballos sergio/msi/models/cassava/VGG16-2-best.h5'\n",
    "torch.save(model_ft, PATH)"
   ]
  },
  {
   "cell_type": "code",
   "execution_count": 19,
   "metadata": {},
   "outputs": [
    {
     "name": "stdout",
     "output_type": "stream",
     "text": [
      "Epoch 0/1\n",
      "----------\n",
      "images: 1000\n",
      "0 Loss: 0.4861 Acc: 0.8330\n",
      "1 Loss: 0.3932 Acc: 0.8623\n",
      "\n",
      "Epoch 1/1\n",
      "----------\n",
      "images: 1000\n",
      "0 Loss: 0.4753 Acc: 0.8360\n",
      "1 Loss: 0.4009 Acc: 0.8617\n",
      "\n",
      "Training complete in 27m 41s\n",
      "Best val Acc: 0.862305\n",
      "train loss: [0.4860530502452251, 0.47531284963301507]\n",
      "\n",
      "val loss: [0.3931747988661362, 0.4008864563196387]\n",
      "\n",
      "train acc: [0.8329576070819816, 0.8359817452026173]\n",
      "\n",
      "val acc: [0.8623052959501558, 0.8616822429906542]\n"
     ]
    }
   ],
   "source": [
    "model, loss, acc = train_model(model, dataloader, criterion, optimizer_ft, exp_lr_scheduler,\n",
    "                       num_epochs=2)"
   ]
  },
  {
   "cell_type": "markdown",
   "metadata": {},
   "source": [
    "# Semi-train "
   ]
  },
  {
   "cell_type": "code",
   "execution_count": 4,
   "metadata": {},
   "outputs": [],
   "source": [
    "#Data transformations for data augmentation\n",
    "jitter_param = 0.05\n",
    "train_transform = transforms.Compose([\n",
    "        transforms.RandomResizedCrop(512),\n",
    "        transforms.RandomHorizontalFlip(),\n",
    "        transforms.ColorJitter(\n",
    "            brightness=jitter_param,\n",
    "            contrast=jitter_param,\n",
    "            saturation=jitter_param),\n",
    "        transforms.RandomRotation(degrees=(-10,10), \n",
    "                                  resample=False, \n",
    "                                  expand=False, \n",
    "                                  center=None, \n",
    "                                  fill=None),\n",
    "        transforms.ToTensor(),\n",
    "        transforms.Normalize([0.485, 0.656, 0.406], [0.229, 0.224, 0.225])\n",
    "    ])\n",
    "\n",
    "val_transform = transforms.Compose([\n",
    "        transforms.Resize(544),\n",
    "        transforms.CenterCrop(512),\n",
    "        transforms.ToTensor(),\n",
    "        transforms.Normalize([0.485, 0.656, 0.406], [0.229, 0.224, 0.225])\n",
    "    ])\n",
    "\n",
    "#We define the dataset class\n",
    "class Dataset(torch.utils.data.Dataset):\n",
    "    \n",
    "    def __init__(self, imgs, labels, transform=None):\n",
    "        self.imgs = imgs\n",
    "        self.labels = labels\n",
    "        self.transform = transform\n",
    "    \n",
    "    def __len__(self):\n",
    "        return len(self.imgs)\n",
    "    \n",
    "    def __getitem__(self, ix):\n",
    "        img = Image.open(self.imgs[ix])\n",
    "        label = torch.tensor(self.labels[ix], dtype = torch.long)\n",
    "        if self.transform:\n",
    "            img = self.transform(img)\n",
    "        return img, label\n",
    "    \n",
    "    def check(self):\n",
    "        if len(self.img) == len(self.labels):\n",
    "            print('Okey!')\n",
    "        else:\n",
    "            print('imgs and labels different len')\n",
    "\n",
    "#Take train data and create a dataset class with it\n",
    "database_base_path = '/media/sergio/traballos sergio/msi/datasets/kaggle/cassava/'\n",
    "df = pd.read_csv(database_base_path + 'train.csv')\n",
    "#imgs = [database_base_path + 'train_images/' + img for img in os.listdir(database_base_path)]\n",
    "\n",
    "#Shuffle data\n",
    "df = df.sample(frac=1)\n",
    "\n",
    "#Take imgs and labels\n",
    "imgs = [database_base_path + 'train_images/' + img for img in df['image_id'].values]\n",
    "labels = df['label'].values\n",
    "\n",
    "train_val_split = 0.85\n",
    "batch_size = 4\n",
    "\n",
    "train_dataset = Dataset(imgs[0:1000], \n",
    "                        labels[0:1000], \n",
    "                        train_transform)\n",
    "val_dataset = Dataset(imgs[1000:1500], \n",
    "                      labels[1000:1500], \n",
    "                      val_transform)\n",
    "\n",
    "#create the dataloaders\n",
    "train_loader = torch.utils.data.DataLoader(train_dataset, batch_size=batch_size, \n",
    "                                           shuffle=True, num_workers=4)\n",
    "validation_loader = torch.utils.data.DataLoader(val_dataset, batch_size=batch_size,\n",
    "                                                shuffle=False, num_workers=4)\n",
    "\n",
    "dataloader = []\n",
    "dataloader.append(train_loader)\n",
    "dataloader.append(validation_loader)\n",
    "\n",
    "dataset_sizes = []\n",
    "dataset_sizes.append(len(train_dataset))\n",
    "dataset_sizes.append(len(val_dataset))"
   ]
  },
  {
   "cell_type": "code",
   "execution_count": 5,
   "metadata": {},
   "outputs": [],
   "source": [
    "criterion = nn.CrossEntropyLoss()\n",
    "\n",
    "optimizer_ft = optim.SGD(model.parameters(), lr=0.0004, momentum=0.75)\n",
    "\n",
    "exp_lr_scheduler = lr_scheduler.StepLR(optimizer_ft, step_size=7, gamma=0.1)"
   ]
  },
  {
   "cell_type": "code",
   "execution_count": 6,
   "metadata": {},
   "outputs": [
    {
     "name": "stdout",
     "output_type": "stream",
     "text": [
      "Epoch 0/4\n",
      "----------\n",
      "0 Loss: 1.0568 Acc: 0.6270\n",
      "1 Loss: 0.8532 Acc: 0.6900\n",
      "\n",
      "Epoch 1/4\n",
      "----------\n",
      "0 Loss: 0.8328 Acc: 0.7030\n",
      "1 Loss: 0.7425 Acc: 0.7140\n",
      "\n",
      "Epoch 2/4\n",
      "----------\n",
      "0 Loss: 0.7650 Acc: 0.7210\n",
      "1 Loss: 0.7552 Acc: 0.7460\n",
      "\n",
      "Epoch 3/4\n",
      "----------\n",
      "0 Loss: 0.6953 Acc: 0.7460\n",
      "1 Loss: 0.5977 Acc: 0.7860\n",
      "\n",
      "Epoch 4/4\n",
      "----------\n",
      "0 Loss: 0.6340 Acc: 0.7760\n",
      "1 Loss: 0.5638 Acc: 0.7960\n",
      "\n",
      "Training complete in 10m 28s\n",
      "Best val Acc: 0.796000\n",
      "train loss: [1.0568047612160445, 0.8328112070299685, 0.7649963339082897, 0.6953401897419244, 0.6339830619012937]\n",
      "\n",
      "val loss: [0.8531824520230293, 0.7424661910682917, 0.7552129698395729, 0.5976854954753071, 0.5638218698287383]\n",
      "\n",
      "train acc: [0.627, 0.7030000000000001, 0.721, 0.746, 0.776]\n",
      "\n",
      "val acc: [0.6900000000000001, 0.714, 0.746, 0.786, 0.796]\n"
     ]
    }
   ],
   "source": [
    "model_ft, loss, acc = train_model(model, dataloader, criterion, optimizer_ft, exp_lr_scheduler,\n",
    "                       num_epochs=5)"
   ]
  },
  {
   "cell_type": "code",
   "execution_count": null,
   "metadata": {
    "scrolled": true
   },
   "outputs": [],
   "source": [
    "last acc: [0.87507] resnet"
   ]
  },
  {
   "cell_type": "code",
   "execution_count": null,
   "metadata": {},
   "outputs": [],
   "source": [
    "0.7400.. jitter_param = 0.05 ..standard norm ..lr=0.0004, momentum=0.75 ..13 layers\n",
    "0.7760 ..same ..same.. same..10 layers\n",
    "0.7960 ..jitter_param = 0.05 norm green =0.656"
   ]
  }
 ],
 "metadata": {
  "kernelspec": {
   "display_name": "Python 3",
   "language": "python",
   "name": "python3"
  },
  "language_info": {
   "codemirror_mode": {
    "name": "ipython",
    "version": 3
   },
   "file_extension": ".py",
   "mimetype": "text/x-python",
   "name": "python",
   "nbconvert_exporter": "python",
   "pygments_lexer": "ipython3",
   "version": "3.8.5"
  }
 },
 "nbformat": 4,
 "nbformat_minor": 4
}
